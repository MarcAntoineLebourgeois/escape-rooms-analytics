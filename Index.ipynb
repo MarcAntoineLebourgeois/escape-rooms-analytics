{
 "cells": [
  {
   "cell_type": "code",
   "execution_count": 2,
   "metadata": {},
   "outputs": [],
   "source": [
    "import pandas as pd"
   ]
  },
  {
   "cell_type": "code",
   "execution_count": 3,
   "metadata": {},
   "outputs": [],
   "source": [
    "import re"
   ]
  },
  {
   "cell_type": "code",
   "execution_count": 5,
   "metadata": {},
   "outputs": [],
   "source": [
    "game_df = pd.read_json('games.json')"
   ]
  },
  {
   "cell_type": "code",
   "execution_count": 6,
   "metadata": {},
   "outputs": [
    {
     "name": "stdout",
     "output_type": "stream",
     "text": [
      "nb of games per escape room\n",
      "Fuzzy Logic Escape Room      7\n",
      "Memphis Escape Rooms         4\n",
      "Trap Door Escape Stream      4\n",
      "The Ultimate Escape Rooms    4\n",
      "Unity Escape Rooms           4\n",
      "                            ..\n",
      "Bruum Escape                 1\n",
      "Get Lost Escape Rooms        1\n",
      "Time Games                   1\n",
      "Safarka Escape Room          1\n",
      "Insomnia Escape Room         1\n",
      "Name: company, Length: 99, dtype: int64\n"
     ]
    }
   ],
   "source": [
    "print ('nb of games per escape room')\n",
    "print(game_df['company'].value_counts())"
   ]
  },
  {
   "cell_type": "code",
   "execution_count": 7,
   "metadata": {},
   "outputs": [],
   "source": [
    "local_currency_list = []\n",
    "local_cost_list = []\n",
    "billing_model_list = []\n",
    "\n",
    "for item in game_df['price'].tolist():\n",
    "    #print(item)\n",
    "    index_digit = re.search(r\"\\d\", item).start()\n",
    "    index_last_digit = re.search(r'(\\d)[^\\d]*$', item).start()+1\n",
    "    \n",
    "    #create local_currency_list\n",
    "    if index_digit == 0:\n",
    "        local_currency_list.append(item[index_last_digit+1:index_last_digit+4])\n",
    "    else:\n",
    "        local_currency_list.append(item[0:index_digit])\n",
    "    \n",
    "    #create local_cost_list\n",
    "    local_cost_list.append(item[index_digit:index_last_digit])\n",
    "        \n",
    "    #create billing_model_list\n",
    "    billing_model = item.split()[-2:]\n",
    "    billing_model = ' '.join(billing_model)\n",
    "    billing_model_list.append(billing_model)"
   ]
  },
  {
   "cell_type": "code",
   "execution_count": 8,
   "metadata": {},
   "outputs": [],
   "source": [
    "game_df['local_currency'] = local_currency_list\n",
    "game_df['local_cost'] = local_cost_list\n",
    "game_df['billing_model'] = billing_model_list\n",
    "del game_df['price']"
   ]
  },
  {
   "cell_type": "code",
   "execution_count": 9,
   "metadata": {},
   "outputs": [
    {
     "name": "stdout",
     "output_type": "stream",
     "text": [
      "print game_df\n",
      "                         company                                 name  \\\n",
      "0                 Help Us Escape                    M School Of Magic   \n",
      "1                     Escape2Win                               Kidnap   \n",
      "2                MysteriumEscape                      The Earl's Will   \n",
      "3                 Help Us Escape   Robbery at the Casino Strikes Back   \n",
      "4             Escape One Algarve                            Atlantis!   \n",
      "..                           ...                                  ...   \n",
      "155  Escape the WhiteChapel Club          Escape the WhiteChapel Club   \n",
      "156         Countdown Louisville              PHOBIA Escape Your Fear   \n",
      "157                 Puzzle Rooms  Sherlock Holmes: The Stolen Diamond   \n",
      "158                 Puzzle Rooms                              Dracula   \n",
      "159          Lokeys Escape Rooms                            Detention   \n",
      "\n",
      "                                      id  \\\n",
      "0                      m-school-of-magic   \n",
      "1                                 kidnap   \n",
      "2                        the-earl's-will   \n",
      "3     robbery-at-the-casino-strikes-back   \n",
      "4                              atlantis!   \n",
      "..                                   ...   \n",
      "155          escape-the-whitechapel-club   \n",
      "156              phobia-escape-your-fear   \n",
      "157  sherlock-holmes:-the-stolen-diamond   \n",
      "158                              dracula   \n",
      "159                            detention   \n",
      "\n",
      "                                                   url  \\\n",
      "0    https://livevideoescaperooms.com/usa/help-us-e...   \n",
      "1    https://livevideoescaperooms.com/portugal/esca...   \n",
      "2    https://livevideoescaperooms.com/italy/mysteri...   \n",
      "3    https://livevideoescaperooms.com/usa/help-us-e...   \n",
      "4    https://livevideoescaperooms.com/portugal/esca...   \n",
      "..                                                 ...   \n",
      "155  https://livevideoescaperooms.com/usa/outatime-...   \n",
      "156  https://livevideoescaperooms.com/usa/countdown...   \n",
      "157  https://livevideoescaperooms.com/romania/puzzl...   \n",
      "158  https://livevideoescaperooms.com/romania/puzzl...   \n",
      "159  https://livevideoescaperooms.com/usa/lokeys-es...   \n",
      "\n",
      "                                           booking_url timezone  \\\n",
      "0    https://www.helpusescape.com/bookings-checkout...      PDT   \n",
      "1                      https://en.escape2win.pt/kidnap     WEST   \n",
      "2                       https://www.mysteriumescape.it     CEST   \n",
      "3    https://www.helpusescape.com/bookings-checkout...      PDT   \n",
      "4    https://escapeonealgarve.com/en/atlantis-onlin...     WEST   \n",
      "..                                                 ...      ...   \n",
      "155                https://outatimegames.com/book-now/      CDT   \n",
      "156                   https://countdownlouisville.com/      EDT   \n",
      "157         http://online.puzzlerooms.ro/booking-form/     EEST   \n",
      "158         http://online.puzzlerooms.ro/booking-form/     EEST   \n",
      "159                     https://lokeysescaperooms.com/      EDT   \n",
      "\n",
      "    local_currency local_cost   billing_model  \n",
      "0                $      49.95        Per game  \n",
      "1                €      40.00  Per connection  \n",
      "2                €      50.00        Per game  \n",
      "3                $      49.95        Per game  \n",
      "4                €      60.00        Per game  \n",
      "..             ...        ...             ...  \n",
      "155              $      99.99        Per game  \n",
      "156              $      59.00      Per player  \n",
      "157              €      30.00        Per game  \n",
      "158              €      30.00        Per game  \n",
      "159              $      19.00      Per player  \n",
      "\n",
      "[160 rows x 9 columns]\n",
      " \n"
     ]
    }
   ],
   "source": [
    "print('print game_df')\n",
    "print(game_df)\n",
    "print(' ')"
   ]
  },
  {
   "cell_type": "code",
   "execution_count": 10,
   "metadata": {},
   "outputs": [
    {
     "name": "stdout",
     "output_type": "stream",
     "text": [
      "nb of different currencies\n",
      "$      84\n",
      "€      48\n",
      "£      12\n",
      "C$     11\n",
      "AUS     1\n",
      "HUF     1\n",
      "AUD     1\n",
      "NZD     1\n",
      "BRL     1\n",
      "Name: local_currency, dtype: int64\n",
      " \n"
     ]
    }
   ],
   "source": [
    "print('nb of different currencies')\n",
    "print(game_df['local_currency'].value_counts())\n",
    "print(' ')"
   ]
  },
  {
   "cell_type": "code",
   "execution_count": 11,
   "metadata": {},
   "outputs": [
    {
     "name": "stdout",
     "output_type": "stream",
     "text": [
      "nb of different billing models\n",
      "Per game          87\n",
      "Per player        48\n",
      "Per connection    25\n",
      "Name: billing_model, dtype: int64\n"
     ]
    }
   ],
   "source": [
    "print('nb of different billing models')\n",
    "print(game_df['billing_model'].value_counts())"
   ]
  },
  {
   "cell_type": "code",
   "execution_count": null,
   "metadata": {},
   "outputs": [],
   "source": []
  }
 ],
 "metadata": {
  "kernelspec": {
   "display_name": "Python 3",
   "language": "python",
   "name": "python3"
  },
  "language_info": {
   "codemirror_mode": {
    "name": "ipython",
    "version": 3
   },
   "file_extension": ".py",
   "mimetype": "text/x-python",
   "name": "python",
   "nbconvert_exporter": "python",
   "pygments_lexer": "ipython3",
   "version": "3.6.10"
  }
 },
 "nbformat": 4,
 "nbformat_minor": 2
}
